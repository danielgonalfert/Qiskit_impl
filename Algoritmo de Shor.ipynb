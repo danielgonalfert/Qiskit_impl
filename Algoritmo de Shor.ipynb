{
 "cells": [
  {
   "cell_type": "markdown",
   "id": "902f3a10",
   "metadata": {},
   "source": [
    "Vamos a calcular uno de los factores del número 15. "
   ]
  },
  {
   "cell_type": "code",
   "execution_count": 4,
   "id": "d2e5b5b6",
   "metadata": {},
   "outputs": [],
   "source": [
    "import math\n",
    "from qiskit.quantum_info.operators import Operator, Pauli\n",
    "from qiskit import QuantumCircuit, QuantumRegister, assemble, Aer\n",
    "from qiskit.quantum_info import Statevector\n",
    "from qiskit import QuantumCircuit, transpile\n",
    "from qiskit_aer import AerSimulator\n",
    "from qiskit.visualization import plot_histogram\n",
    "import random\n",
    "\n"
   ]
  },
  {
   "cell_type": "markdown",
   "id": "67c18f17",
   "metadata": {},
   "source": [
    "1.- Vemos si 15 es par."
   ]
  },
  {
   "cell_type": "code",
   "execution_count": 3,
   "id": "89a22b69",
   "metadata": {},
   "outputs": [
    {
     "data": {
      "text/plain": [
       "1"
      ]
     },
     "execution_count": 3,
     "metadata": {},
     "output_type": "execute_result"
    }
   ],
   "source": [
    "15 % 2 "
   ]
  },
  {
   "cell_type": "markdown",
   "id": "d94ed705",
   "metadata": {},
   "source": [
    "2.- Vemos si existen a y b tales que a^b = 15."
   ]
  },
  {
   "cell_type": "code",
   "execution_count": 8,
   "id": "5b6519f7",
   "metadata": {},
   "outputs": [
    {
     "data": {
      "text/plain": [
       "False"
      ]
     },
     "execution_count": 8,
     "metadata": {},
     "output_type": "execute_result"
    }
   ],
   "source": [
    "L = 4\n",
    "resultado = False\n",
    "\n",
    "for b in range(1,L):\n",
    "    x = L/b \n",
    "    exponencial = 2**x\n",
    "    u_1 = math.trunc(2**x)\n",
    "    u_2 = u_1 + 1\n",
    "    if u_1**b == N or u_1**b == N:\n",
    "        resultado = True\n",
    "        \n",
    "resultado"
   ]
  },
  {
   "cell_type": "markdown",
   "id": "381ad2b0",
   "metadata": {},
   "source": [
    "3.- Elegimos un número aleatorio entre 1 y 14. Elijamos por conveniencia el 7. mcd(7,15) = 1, de modos que pasamos al siguiente paso."
   ]
  },
  {
   "cell_type": "markdown",
   "id": "472b0407",
   "metadata": {},
   "source": [
    "4.- Calculámos el orden de 7 mod 15. Ya hemos calculado en el apartado anterior que es 4. "
   ]
  },
  {
   "cell_type": "markdown",
   "id": "334a2f50",
   "metadata": {},
   "source": [
    "5.- Como r=4 es par, podemos calcular x^(r/2) = 7^2 = 59 != -1 mod 15, por lo tanto calculamos mcd(48,15) y mcd(50,15)"
   ]
  },
  {
   "cell_type": "code",
   "execution_count": 14,
   "id": "b10cd081",
   "metadata": {},
   "outputs": [
    {
     "data": {
      "text/plain": [
       "[3, 5]"
      ]
     },
     "execution_count": 14,
     "metadata": {},
     "output_type": "execute_result"
    }
   ],
   "source": [
    "def mcd(num1,num2):\n",
    "    while num2 != 0:\n",
    "            temp = num2\n",
    "            num2 = num1 % num2\n",
    "            num1 = temp\n",
    "    return num1\n",
    "\n",
    "[mcd(48,15),mcd(50,15)]"
   ]
  },
  {
   "cell_type": "markdown",
   "id": "06226169",
   "metadata": {},
   "source": [
    "Que como vemos son dos dos factores distintos del número 15."
   ]
  }
 ],
 "metadata": {
  "kernelspec": {
   "display_name": "Python 3 (ipykernel)",
   "language": "python",
   "name": "python3"
  },
  "language_info": {
   "codemirror_mode": {
    "name": "ipython",
    "version": 3
   },
   "file_extension": ".py",
   "mimetype": "text/x-python",
   "name": "python",
   "nbconvert_exporter": "python",
   "pygments_lexer": "ipython3",
   "version": "3.10.5"
  }
 },
 "nbformat": 4,
 "nbformat_minor": 5
}
