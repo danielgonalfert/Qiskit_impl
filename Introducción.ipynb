{
 "cells": [
  {
   "cell_type": "code",
   "execution_count": 27,
   "id": "e8736171",
   "metadata": {},
   "outputs": [],
   "source": [
    "from qiskit import QuantumCircuit, QuantumRegister, assemble, Aer\n",
    "from qiskit.quantum_info import Statevector\n",
    "from qiskit_aer import AerSimulator\n",
    "from qiskit.quantum_info.operators import Operator, Pauli\n"
   ]
  },
  {
   "cell_type": "code",
   "execution_count": 18,
   "id": "e5d08ab4",
   "metadata": {},
   "outputs": [
    {
     "data": {
      "image/png": "[encoded data removed]",
      "text/plain": [
       "<Figure size 621.941x367.889 with 1 Axes>"
      ]
     },
     "execution_count": 18,
     "metadata": {},
     "output_type": "execute_result"
    }
   ],
   "source": [
    "#En primer lugar creamos un circuito con n qubits, con m bits clásicos. Para ello, utilizamos el comando:\n",
    "n=3\n",
    "circ = QuantumCircuit(n,n)\n",
    "\n",
    "#Para añadir puertas solo tenemos que escribir la puerta que queramos añadir junto \n",
    "#con el índice/s en los que la queramos añadir. Por ejemplo:\n",
    "circ.h(0)\n",
    "circ.cx(0,1)\n",
    "circ.cx(0,2)\n",
    "\n",
    "#Además, podemos añadir medidas en la base computacional. Con el siguiente comando, que acepta dos vectores, generamos una \n",
    "#asociación entre los índices de qubits y bits, de manera que la medida del qubits [a_i] se guarda en el bits [b_i]. \n",
    "circ.measure([1,0,2], [0,1,2])\n",
    "\n",
    "\n",
    "#Podemos dibujar el circuito con el comando:\n",
    "circ.draw('mpl')"
   ]
  },
  {
   "cell_type": "code",
   "execution_count": 19,
   "id": "28f13cac",
   "metadata": {},
   "outputs": [
    {
     "data": {
      "image/png": "[encoded data removed]",
      "text/plain": [
       "<Figure size 203.683x200.667 with 1 Axes>"
      ]
     },
     "execution_count": 19,
     "metadata": {},
     "output_type": "execute_result"
    }
   ],
   "source": [
    "#También podemos crear un circuito sin medidas. \n",
    "s=2\n",
    "qc = QuantumCircuit(s,name = \"U\")\n",
    "qc.h(0)\n",
    "qc.h(1)\n",
    "\n",
    "qc.draw('mpl')\n"
   ]
  },
  {
   "cell_type": "code",
   "execution_count": 20,
   "id": "7799b34d",
   "metadata": {},
   "outputs": [
    {
     "data": {
      "text/latex": [
       "$$ |00\\rangle$$"
      ],
      "text/plain": [
       "<IPython.core.display.Latex object>"
      ]
     },
     "execution_count": 20,
     "metadata": {},
     "output_type": "execute_result"
    }
   ],
   "source": [
    "#Podemos generar un estado y pasarlo por el circuito, con el siguiente comando, que genera el estado |natural> en \n",
    "#la base computacional de número de qubits tam. Por ejemplo el estado |2> en la base computacional de 2 qubits:\n",
    "tam = 2\n",
    "natural = 0\n",
    "state = Statevector.from_int(natural, 2**tam)\n",
    "state.draw('latex')"
   ]
  },
  {
   "cell_type": "code",
   "execution_count": 21,
   "id": "a138bf4a",
   "metadata": {},
   "outputs": [
    {
     "name": "stdout",
     "output_type": "stream",
     "text": [
      "Statevector([0.5+0.j, 0.5+0.j, 0.5+0.j, 0.5+0.j],\n",
      "            dims=(2, 2))\n"
     ]
    }
   ],
   "source": [
    "#Ahora podemos usar este estado como entrada:\n",
    "salida = state.evolve(qc)\n",
    "#Este comando nos devuelve una entrada poco legible.\n",
    "salida"
   ]
  },
  {
   "cell_type": "code",
   "execution_count": 22,
   "id": "25d892e5",
   "metadata": {},
   "outputs": [
    {
     "data": {
      "text/latex": [
       "$$\\frac{1}{2} |00\\rangle+\\frac{1}{2} |01\\rangle+\\frac{1}{2} |10\\rangle+\\frac{1}{2} |11\\rangle$$"
      ],
      "text/plain": [
       "<IPython.core.display.Latex object>"
      ]
     },
     "execution_count": 22,
     "metadata": {},
     "output_type": "execute_result"
    }
   ],
   "source": [
    "#Podemos utilizar este para obtener una entrada mas comprensible.\n",
    "salida.draw('latex')"
   ]
  },
  {
   "cell_type": "code",
   "execution_count": 23,
   "id": "64bf7c34",
   "metadata": {},
   "outputs": [
    {
     "data": {
      "text/plain": [
       "Result(backend_name='aer_simulator', backend_version='0.12.0', qobj_id='', job_id='7b5faf40-990e-4eb7-a8ce-88a9ca3e64aa', success=True, results=[ExperimentResult(shots=1024, success=True, meas_level=2, data=ExperimentResultData(counts={'0x0': 498, '0x7': 526}), header=QobjExperimentHeader(creg_sizes=[['c', 3]], global_phase=0.0, memory_slots=3, metadata=None, n_qubits=3, name='circuit-124', qreg_sizes=[['q', 3]]), status=DONE, seed_simulator=2538971145, metadata={'batched_shots_optimization': False, 'method': 'stabilizer', 'active_input_qubits': [0, 1, 2], 'device': 'CPU', 'remapped_qubits': False, 'num_qubits': 3, 'num_clbits': 3, 'sample_measure_time': 0.0082601, 'input_qubit_map': [[0, 0], [1, 1], [2, 2]], 'measure_sampling': True, 'noise': 'ideal', 'parallel_shots': 1, 'parallel_state_update': 8, 'fusion': {'enabled': False}}, time_taken=0.033962)], date=2023-06-19T19:36:32.233637, status=COMPLETED, header=None, metadata={'parallel_experiments': 1, 'omp_enabled': True, 'max_memory_mb': 8157, 'max_gpu_memory_mb': 0, 'num_processes_per_experiments': 1, 'mpi_rank': 0, 'num_mpi_processes': 1, 'time_taken_execute': 0.0339987}, time_taken=0.03977823257446289)"
      ]
     },
     "execution_count": 23,
     "metadata": {},
     "output_type": "execute_result"
    }
   ],
   "source": [
    "#Por otra parte, para poder utilizar la medición, tenemos que utilizar un \"backend\" para compilar el circuito y convertirlo\n",
    "#en un programa. Primero definimos el backend:\n",
    "simulator = AerSimulator()\n",
    "\n",
    "\n",
    "#Ahora compilamos el circuito:\n",
    "circuit_compiled = transpile(circ,simulator)\n",
    "\n",
    "\n",
    "#El resultado es un programa que podemos ejecutar. \n",
    "#Corremos el programa en el simulador un número \"shots\" de veces. \n",
    "#Al utilizar el comando run, obtenemos un objeto que trabaja asíncronamente. Con el comando status(), obtenemos el estado \n",
    "#actual, mientras que con result() obtenemos el resultado final, si es que lo hay. \n",
    "trabajo_sim = simulator.run(circuit_compiled, shots = 1024)\n",
    "result = trabajo_sim.result()\n",
    "\n",
    "result"
   ]
  },
  {
   "cell_type": "code",
   "execution_count": 24,
   "id": "6953dedc",
   "metadata": {},
   "outputs": [
    {
     "name": "stdout",
     "output_type": "stream",
     "text": [
      "{'000': 498, '111': 526}\n"
     ]
    }
   ],
   "source": [
    "#Como podemos ver, esta salida es bastante confusa. Podemos obtener el resultado del experimento con el comando:\n",
    "counts = result.get_counts(circuit_compiled)\n",
    "print(counts)"
   ]
  },
  {
   "cell_type": "code",
   "execution_count": 28,
   "id": "651d3fbf",
   "metadata": {},
   "outputs": [
    {
     "name": "stdout",
     "output_type": "stream",
     "text": [
      "Operator([[ 0.5+0.j,  0.5+0.j,  0.5+0.j,  0.5+0.j],\n",
      "          [ 0.5+0.j, -0.5+0.j,  0.5+0.j, -0.5+0.j],\n",
      "          [ 0.5+0.j,  0.5+0.j, -0.5+0.j, -0.5+0.j],\n",
      "          [ 0.5+0.j, -0.5+0.j, -0.5+0.j,  0.5+0.j]],\n",
      "         input_dims=(2, 2), output_dims=(2, 2))\n"
     ]
    }
   ],
   "source": [
    "#Para poder modularizar el proceso de desarrollo de un circuito cuántico complejo, podemos convertir los circuitos que \n",
    "#queremos en operadores de caja negra.\n",
    "\n",
    "U = Operator(qc)\n",
    "print(U)"
   ]
  },
  {
   "cell_type": "code",
   "execution_count": 29,
   "id": "d067b70f",
   "metadata": {},
   "outputs": [
    {
     "data": {
      "image/png": "[encoded data removed]",
      "text/plain": [
       "<Figure size 203.683x200.667 with 1 Axes>"
      ]
     },
     "execution_count": 29,
     "metadata": {},
     "output_type": "execute_result"
    }
   ],
   "source": [
    "#Podemos añadir este operador a un circuito en sí mismo. \n",
    "c = QuantumCircuit(2)\n",
    "c.append(qc.to_gate(),[0,1])\n",
    "\n",
    "c.draw('mpl')"
   ]
  },
  {
   "cell_type": "code",
   "execution_count": 30,
   "id": "9574b8af",
   "metadata": {},
   "outputs": [
    {
     "data": {
      "text/latex": [
       "$$\\frac{1}{2} |00\\rangle+\\frac{1}{2} |01\\rangle- \\frac{1}{2} |10\\rangle- \\frac{1}{2} |11\\rangle$$"
      ],
      "text/plain": [
       "<IPython.core.display.Latex object>"
      ]
     },
     "execution_count": 30,
     "metadata": {},
     "output_type": "execute_result"
    }
   ],
   "source": [
    "#Podemos comprobar fácilmente que este operador nos da el mismo resultado que el circuito del que proviene\n",
    "state = Statevector.from_int(2, 2**2)\n",
    "state.draw('latex')\n",
    "salida = state.evolve(c)\n",
    "salida.draw('latex')"
   ]
  },
  {
   "cell_type": "code",
   "execution_count": 31,
   "id": "786e270a",
   "metadata": {},
   "outputs": [
    {
     "data": {
      "image/png": "[encoded data removed]",
      "text/plain": [
       "<Figure size 203.885x284.278 with 1 Axes>"
      ]
     },
     "execution_count": 31,
     "metadata": {},
     "output_type": "execute_result"
    }
   ],
   "source": [
    "#También podemos añadir condicionalidad a estos operadores personalizados:\n",
    "cond_c = QuantumCircuit(3)\n",
    "condU = qc.to_gate().control(1)\n",
    "\n",
    "cond_c.append(condU,[0,1,2])\n",
    "\n",
    "cond_c.draw('mpl')"
   ]
  }
 ],
 "metadata": {
  "kernelspec": {
   "display_name": "Python 3 (ipykernel)",
   "language": "python",
   "name": "python3"
  },
  "language_info": {
   "codemirror_mode": {
    "name": "ipython",
    "version": 3
   },
   "file_extension": ".py",
   "mimetype": "text/x-python",
   "name": "python",
   "nbconvert_exporter": "python",
   "pygments_lexer": "ipython3",
   "version": "3.10.5"
  }
 },
 "nbformat": 4,
 "nbformat_minor": 5
}
